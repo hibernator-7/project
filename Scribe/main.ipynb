{
 "cells": [
  {
   "cell_type": "code",
   "execution_count": 3,
   "id": "6aa481c8",
   "metadata": {},
   "outputs": [],
   "source": [
    "with open('NewsFetcher/news_output.txt', 'r') as f:\n",
    "    Lines = f.readlines()\n",
    "\n",
    "scrapped_news = []\n",
    "for line in Lines:\n",
    "    scrapped_news.append(line.partition(\" - \")[2].strip())"
   ]
  },
  {
   "cell_type": "code",
   "execution_count": 4,
   "id": "c1205138",
   "metadata": {},
   "outputs": [
    {
     "data": {
      "text/plain": [
       "['High school football: Donegal defeats Daniel Boone in a Monday night game',\n",
       " 'Future Of Vision Pro Headset Uncertain As Apple Favors Smart Glasses Development',\n",
       " 'Rank Tracking vs LLM Citation Tracking - SMA Marketing',\n",
       " 'The iPhone 17 Pro is tempting this Android user to the dark side',\n",
       " 'Service Programs for iPhone 12, 12 Pro, and AirPods Pro Sound Issues Have Ended',\n",
       " 'Windows 10 support ends today. Last chance to download this key file!',\n",
       " 'Apple Just Posted Its Strongest Third Quarter Ever On The Back Of Strong iPhone 17 Sales',\n",
       " 'In Photos: Teenager Supports Her Family Using An E-Bike',\n",
       " 'AS LHV Group webinar on the financial results for the Q3 2025',\n",
       " '‘Ballad of a Small Player’: Colin Farrell Gambles It All Away',\n",
       " 'Is your car a poop magnet? Birds prefer using these models as bathrooms, study reveals',\n",
       " 'The OnePlus 15 will get an impressive display feature that most phones miss out on',\n",
       " 'Kylie Jenner Revives King Kylie With Music Debut ‘Fourth Strike’',\n",
       " '‘Pixnapping’ Android attack could expose crypto wallet seed phrases',\n",
       " 'Foxconn to make more components locally to ramp up India presence',\n",
       " 'The million-dollar offer Caitlin Clark could receive to leave the WNBA has everyone on alert',\n",
       " 'What’s New in the AWS Deploy Tool for .NET',\n",
       " 'Spotify managed accounts are coming to protect parents from their kids',\n",
       " 'PL Capital sees Indian markets holding steady despite\\xa0tariffs, FII outflows, and trade uncertainty',\n",
       " '(PR) NVIDIA and Oracle to Accelerate Enterprise AI and Data Processing',\n",
       " 'Roterra 6 – Royal Adventure Is the Latest Instalment in the Award-Winning Puzzle Series',\n",
       " 'Why has Dutch government taken control of China-owned chipmaker Nexperia?',\n",
       " \"The Whole Family is Back in Comedy Sequel 'The Family Plan 2' Trailer\",\n",
       " 'The Copenhagen Test: Simu Liu-Starrer Drops Trailer, Sets Debut Date',\n",
       " 'Comment on In Which I Rank Grocery Store Apples, Part Two by Coffee Pot',\n",
       " 'The AirPods Max USB-C Is $99 Off',\n",
       " 'Apple launches new environmental initiatives…in Europe and China ↦',\n",
       " 'Verizon vs Mint Mobile: plan prices, phones, and network coverage',\n",
       " 'As Cybertruck sales stall, Elon Musk buys up inventory himself',\n",
       " 'NPCI’s BHIM records 3X surge in monthly transactions between January and September 2025',\n",
       " 'NPCI’s BHIM records 3X surge in monthly transactions between January and September 2025',\n",
       " 'Tomasson out as Sweden sack a manager for first time',\n",
       " 'Pax Dei, Keeper, and Fairlight84 All Launch With NVIDIA DLSS 4 Multi Frame Generation',\n",
       " 'Epiminds Launches with $6.6m to Build AI-Driven Marketing Teams',\n",
       " 'Kraken vs Canadiens Prediction, Picks & Same-Game Parlay for Tonight’s NHL Game',\n",
       " 'Apple TV+ is no more and I don’t understand why – it’s HBO Max all over again',\n",
       " 'Necesse Will Launch The Full Game Later This Week',\n",
       " 'I wore smart glasses with xMEMS speakers and cooling fans - and wished my Ray-Bans had the same',\n",
       " \"What to Expect From Apple's New Products as Early as This Week\",\n",
       " \"Visakhapatnam's AI jackpot; Lenskart IPO scoop\",\n",
       " '‘Fund The AI Arms Race’—Elon Musk Is Quietly Backing Bitcoin And Issued A ‘Fake Fiat Currency’ Dollar Warning']"
      ]
     },
     "execution_count": 4,
     "metadata": {},
     "output_type": "execute_result"
    }
   ],
   "source": [
    "scrapped_news"
   ]
  },
  {
   "cell_type": "code",
   "execution_count": 5,
   "id": "6336a030",
   "metadata": {},
   "outputs": [
    {
     "name": "stderr",
     "output_type": "stream",
     "text": [
      "/Users/ak/Files/Code/Py/Projects/Anvesha/.venv/lib/python3.13/site-packages/tqdm/auto.py:21: TqdmWarning: IProgress not found. Please update jupyter and ipywidgets. See https://ipywidgets.readthedocs.io/en/stable/user_install.html\n",
      "  from .autonotebook import tqdm as notebook_tqdm\n"
     ]
    }
   ],
   "source": [
    "from sentence_transformers import SentenceTransformer\n",
    "import faiss\n",
    "import numpy as np\n",
    "\n",
    "# Lightweight pretrained model\n",
    "model = SentenceTransformer('all-MiniLM-L6-v2')  # ~22MB, very fast\n",
    "\n",
    "embeddings = model.encode(scrapped_news, normalize_embeddings=True)\n",
    "\n",
    "# embeddings.shape -> (n, 384)"
   ]
  },
  {
   "cell_type": "code",
   "execution_count": 8,
   "id": "301df375",
   "metadata": {},
   "outputs": [
    {
     "data": {
      "text/plain": [
       "(41, 384)"
      ]
     },
     "execution_count": 8,
     "metadata": {},
     "output_type": "execute_result"
    }
   ],
   "source": [
    "embeddings.shape"
   ]
  },
  {
   "cell_type": "code",
   "execution_count": null,
   "id": "f4c087fd",
   "metadata": {},
   "outputs": [],
   "source": []
  }
 ],
 "metadata": {
  "kernelspec": {
   "display_name": ".venv (3.13.5)",
   "language": "python",
   "name": "python3"
  },
  "language_info": {
   "codemirror_mode": {
    "name": "ipython",
    "version": 3
   },
   "file_extension": ".py",
   "mimetype": "text/x-python",
   "name": "python",
   "nbconvert_exporter": "python",
   "pygments_lexer": "ipython3",
   "version": "3.13.5"
  }
 },
 "nbformat": 4,
 "nbformat_minor": 5
}
